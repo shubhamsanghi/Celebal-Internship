{
 "cells": [
  {
   "cell_type": "code",
   "execution_count": 1,
   "metadata": {
    "_cell_guid": "b1076dfc-b9ad-4769-8c92-a6c4dae69d19",
    "_uuid": "8f2839f25d086af736a60e9eeb907d3b93b6e0e5"
   },
   "outputs": [],
   "source": [
    "import numpy as np # linear algebra\n",
    "import pandas as pd # data processing, CSV file I/O (e.g. pd.read_csv)\n",
    "import matplotlib.pyplot as plt\n",
    "import matplotlib.image as mpimg\n",
    "import tensorflow as tf\n",
    "from tensorflow import keras\n",
    "import string\n"
   ]
  },
  {
   "cell_type": "markdown",
   "metadata": {},
   "source": [
    "Here UsedSentences.txt Contains the output of the text in the Image and the name of the Image. The name of the image is used to extract the image from the directory and add it to our dataset. Feel free to play with this piece of code and get more clearity of the dataset."
   ]
  },
  {
   "cell_type": "code",
   "execution_count": 5,
   "metadata": {
    "_cell_guid": "79c7e3d0-c299-4dcb-8224-4455121ee9b0",
    "_uuid": "d629ff2d2480ee46fbb7e2d37f6b5fab8052498a"
   },
   "outputs": [
    {
     "name": "stdout",
     "output_type": "stream",
     "text": [
      "No of Images : 1774\n",
      "Characters :  abcdefghijklmnopqrstuvwxyzABCDEFGHIJKLMNOPQRSTUVWXYZ0123456789.,*&!@~():`^]¢‘;|-«\n",
      "No of chars : 82\n"
     ]
    },
    {
     "data": {
      "image/png": "[encoded data removed]",
      "text/plain": [
       "<Figure size 432x288 with 1 Axes>"
      ]
     },
     "metadata": {
      "needs_background": "light"
     },
     "output_type": "display_data"
    }
   ],
   "source": [
    "#Only Selecting the Images and excluding the directories in the folder\n",
    "# images_names=fnmatch.filter(os.listdir('/kaggle/input/captcha-version-2-images/samples/'),'*.*')\n",
    "from PIL import Image\n",
    "\n",
    "text_file=open(r\"UsedSentences.txt\",\"r\")\n",
    "\n",
    "details=[]\n",
    "outputs=[]\n",
    "names=[]\n",
    "for line in text_file:\n",
    "    a=line.split('#')\n",
    "    outputs.append(a[1].strip('\\n'))\n",
    "    details.append(a[0])\n",
    "\n",
    "for detail in details:\n",
    "    a=detail.split(' ')\n",
    "    names.append(a[0])\n",
    "X=[]\n",
    "\n",
    "for name in names:\n",
    "    img=Image.open('CleanedImages/Encoder_Clean_Renamed/'+name+'.png','r')\n",
    "    img = img.resize((784,32), Image.ANTIALIAS)\n",
    "    img=np.asarray(img)\n",
    "    img=img[:,:,0]\n",
    "    X.append(img)\n",
    "\n",
    "X=np.asarray(X)\n",
    "plt.imshow(X[42])\n",
    "plt.title(outputs[42])\n",
    "print(\"No of Images :\",X.shape[0])\n",
    "\n",
    "symbols = \" \"+string.ascii_lowercase + string.ascii_uppercase+\"0123456789.,*&!@~():`^]¢‘;|-«\"\n",
    "print(\"Characters :\",symbols)\n",
    "print(\"No of chars :\",len(symbols))\n",
    "\n",
    "# print(os.listdir('../input/linesdata/data/sentences/s01/'))\n"
   ]
  },
  {
   "cell_type": "markdown",
   "metadata": {},
   "source": [
    "Here I have created a One Hot Encoded Array. 98 is taken as the maximum number of Character in the Sentences. If the letter is present in the output then it is encoded to 1."
   ]
  },
  {
   "cell_type": "code",
   "execution_count": 6,
   "metadata": {},
   "outputs": [],
   "source": [
    "Y=np.zeros(shape=(len(outputs),98,len(symbols)))\n",
    "for example_no,name in enumerate(outputs):\n",
    "    for letter_no,letter in enumerate(name):\n",
    "        try:\n",
    "            Y[example_no][letter_no][symbols.index(letter)]=1\n",
    "        except:\n",
    "            print(letter,end=\" \")\n",
    "\n",
    "\n"
   ]
  },
  {
   "cell_type": "markdown",
   "metadata": {},
   "source": [
    "Just Reshaping the Shape of X in order to pass it to the convolution."
   ]
  },
  {
   "cell_type": "code",
   "execution_count": 7,
   "metadata": {},
   "outputs": [
    {
     "name": "stdout",
     "output_type": "stream",
     "text": [
      "Shape of X is : (1774, 32, 784, 1)\n"
     ]
    }
   ],
   "source": [
    "X=np.reshape(X,(X.shape[0],X.shape[1],X.shape[2],1))\n",
    "print(\"Shape of X is :\",X.shape)"
   ]
  },
  {
   "cell_type": "code",
   "execution_count": 8,
   "metadata": {},
   "outputs": [],
   "source": [
    "# Neural Network Model \n",
    "# Try Removing Batch Normalisation and see how the performance decreases.\n",
    "def OCRModel():\n",
    "    image=keras.layers.Input((32,784,1))\n",
    "    conv1=keras.layers.Conv2D(16,(3,3),activation='relu',padding='same')(image)\n",
    "    mp1=keras.layers.MaxPooling2D((2,2),padding='same')(conv1)\n",
    "    conv2=keras.layers.Conv2D(32,(3,3),activation='relu',padding='same')(mp1)\n",
    "    mp2=keras.layers.MaxPooling2D((2,2),padding='same')(conv2)\n",
    "    conv3=keras.layers.Conv2D(64,(3,3),activation='relu',padding='same')(mp2)\n",
    "    mp3=keras.layers.MaxPooling2D((2,2),padding='same')(conv3)\n",
    "    conv4=keras.layers.Conv2D(128,(3,3),activation='relu',padding='same')(mp3)\n",
    "    mp4=keras.layers.MaxPooling2D((2,1),padding='same')(conv4)\n",
    "    conv5=keras.layers.Conv2D(256,(3,3),activation='relu',padding='same')(mp4)\n",
    "    mp5=keras.layers.MaxPooling2D((2,1),padding='same')(conv5)\n",
    "    conv6=keras.layers.Conv2D(256,(3,3),activation='relu',padding='same')(mp5)\n",
    "    # mp6=keras.layers.MaxPooling2D((1,3),padding='same')(conv6)\n",
    "    bn=keras.layers.BatchNormalization()(conv6)\n",
    "    sq=keras.backend.squeeze(bn,axis=1)\n",
    "\n",
    "    rn1=keras.layers.Bidirectional(keras.layers.LSTM(256,return_sequences=True))(sq)\n",
    "    rn2=keras.layers.Bidirectional(keras.layers.LSTM(256,return_sequences=True))(rn1)\n",
    "\n",
    "    exd=keras.backend.expand_dims(rn2,axis=2)\n",
    "    maping=keras.layers.Conv2D(len(symbols),(2,2),activation='relu',padding='same')(exd)\n",
    "    maping=keras.backend.squeeze(maping,axis=2)\n",
    "    maping = tf.keras.layers.Softmax()(maping)\n",
    "\n",
    "    # bn = keras.layers.BatchNormalization()(conv3)\n",
    "    model=keras.Model(image,maping)\n",
    "    model.compile(loss='categorical_crossentropy', optimizer='adam')\n",
    "    \n",
    "    return model\n"
   ]
  },
  {
   "cell_type": "code",
   "execution_count": null,
   "metadata": {},
   "outputs": [
    {
     "name": "stdout",
     "output_type": "stream",
     "text": [
      "Epoch 1/50\n",
      "56/56 [==============================] - 80s 1s/step - loss: 1.6127\n",
      "Epoch 2/50\n",
      "56/56 [==============================] - 94s 2s/step - loss: 1.5161\n",
      "Epoch 3/50\n",
      "56/56 [==============================] - 105s 2s/step - loss: 1.4959\n",
      "Epoch 4/50\n",
      "56/56 [==============================] - 117s 2s/step - loss: 1.4757\n",
      "Epoch 5/50\n",
      " 6/56 [==>...........................] - ETA: 1:33 - loss: 1.4918"
     ]
    }
   ],
   "source": [
    "from keras.utils.vis_utils import plot_model\n",
    "OCR=OCRModel()\n",
    "OCR.fit(X,Y,epochs=50)\n",
    "# plot_model(OCR, to_file='gan_plot.png', show_shapes=True, show_layer_names=True)"
   ]
  },
  {
   "cell_type": "markdown",
   "metadata": {},
   "source": [
    "Decoding the Output of the Model and Comparing it....."
   ]
  },
  {
   "cell_type": "code",
   "execution_count": 26,
   "metadata": {},
   "outputs": [
    {
     "name": "stdout",
     "output_type": "stream",
     "text": [
      "98\n",
      "predicted: filter that repla es the pixee valees wioh thennhengb\n",
      "\n",
      "Orignal:  filter that replaces the pixel values with the neighb\n"
     ]
    },
    {
     "data": {
      "text/plain": [
       "<matplotlib.image.AxesImage at 0x7f578b347160>"
      ]
     },
     "execution_count": 26,
     "metadata": {},
     "output_type": "execute_result"
    },
    {
     "data": {
      "image/png": "[encoded data removed]",
      "text/plain": [
       "<Figure size 432x288 with 1 Axes>"
      ]
     },
     "metadata": {
      "needs_background": "light"
     },
     "output_type": "display_data"
    }
   ],
   "source": [
    "xx=OCR.predict(X)\n",
    "index=466\n",
    "c=\"\"\n",
    "print(len(xx[0]))\n",
    "for i in range(len(xx[0])):\n",
    "    c=c+(symbols[np.argmax(xx[index][i])])\n",
    "print(\"predicted:\",c.strip())\n",
    "print(\"\\nOrignal:\",outputs[index])\n",
    "plt.imshow(X[index][:,:,0])"
   ]
  },
  {
   "cell_type": "markdown",
   "metadata": {},
   "source": [
    "If you like the Code feel free to fork the Notebook and don't forget to Upvote it. Cheers...."
   ]
  }
 ],
 "metadata": {
  "kernelspec": {
   "display_name": "Python 3",
   "language": "python",
   "name": "python3"
  },
  "language_info": {
   "codemirror_mode": {
    "name": "ipython",
    "version": 3
   },
   "file_extension": ".py",
   "mimetype": "text/x-python",
   "name": "python",
   "nbconvert_exporter": "python",
   "pygments_lexer": "ipython3",
   "version": "3.7.6"
  }
 },
 "nbformat": 4,
 "nbformat_minor": 4
}
